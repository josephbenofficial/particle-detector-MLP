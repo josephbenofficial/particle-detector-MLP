{
  "nbformat": 4,
  "nbformat_minor": 0,
  "metadata": {
    "kernelspec": {
      "language": "python",
      "display_name": "Python 3",
      "name": "python3"
    },
    "language_info": {
      "name": "python",
      "version": "3.7.10",
      "mimetype": "text/x-python",
      "codemirror_mode": {
        "name": "ipython",
        "version": 3
      },
      "pygments_lexer": "ipython3",
      "nbconvert_exporter": "python",
      "file_extension": ".py"
    },
    "colab": {
      "name": "ml1-project-signal.ipynb",
      "provenance": []
    }
  },
  "cells": [
    {
      "cell_type": "markdown",
      "metadata": {
        "id": "dUUZMAGhT8qw"
      },
      "source": [
        "# ML1 Project: Distinguishing Between a Signal Processes 📶"
      ]
    },
    {
      "cell_type": "markdown",
      "metadata": {
        "id": "8E9WqIyuT8q8"
      },
      "source": [
        "#### *Joseph Ben | Nov 2021*"
      ]
    },
    {
      "cell_type": "markdown",
      "metadata": {
        "id": "bEmBpQvgT8q9"
      },
      "source": [
        "## About\n",
        "The problem is a classification problem which distinguishes between a signal process which produces supersymmetric particles and a background process which does not. The first 8 features are kinematic properties measured by the particle detectors in the accelerator. The last ten features are functions of the first 8 features; these are high-level features derived by physicists to help discriminate between the two classes. Class 0 represents the background and class 1 represents the signal. "
      ]
    },
    {
      "cell_type": "code",
      "metadata": {
        "execution": {
          "iopub.status.busy": "2021-11-29T05:19:42.168771Z",
          "iopub.execute_input": "2021-11-29T05:19:42.169150Z",
          "iopub.status.idle": "2021-11-29T05:19:43.556206Z",
          "shell.execute_reply.started": "2021-11-29T05:19:42.169054Z",
          "shell.execute_reply": "2021-11-29T05:19:43.555279Z"
        },
        "trusted": true,
        "id": "-I4lhXR8T8q9"
      },
      "source": [
        "#0 Importing the necessary header files.\n",
        "import pandas as pd\n",
        "import numpy as np\n",
        "import matplotlib.pyplot as plt\n",
        "import seaborn as sns\n",
        "\n",
        "    # Train-test\n",
        "from sklearn.model_selection import StratifiedKFold\n",
        "from sklearn.model_selection import cross_val_score\n",
        "from sklearn.model_selection import GridSearchCV\n",
        "from sklearn.model_selection import RandomizedSearchCV\n",
        "    # Metrics\n",
        "from sklearn.model_selection import train_test_split\n",
        "from sklearn.metrics import accuracy_score\n",
        "\n",
        "    # Model\n",
        "from sklearn.tree import DecisionTreeClassifier\n",
        "from sklearn.ensemble import BaggingClassifier\n",
        "from sklearn.ensemble import RandomForestClassifier\n",
        "from sklearn.preprocessing import StandardScaler\n"
      ],
      "execution_count": 61,
      "outputs": []
    },
    {
      "cell_type": "code",
      "metadata": {
        "execution": {
          "iopub.status.busy": "2021-11-29T05:19:48.805743Z",
          "iopub.execute_input": "2021-11-29T05:19:48.806573Z",
          "iopub.status.idle": "2021-11-29T05:20:14.996442Z",
          "shell.execute_reply.started": "2021-11-29T05:19:48.806520Z",
          "shell.execute_reply": "2021-11-29T05:20:14.995532Z"
        },
        "trusted": true,
        "colab": {
          "base_uri": "https://localhost:8080/"
        },
        "id": "Kt5sREYCT8q-",
        "outputId": "e18bc7f2-1801-42b4-f7e4-cbf6fc5575ea"
      },
      "source": [
        "#2 Loading the train csv as pandas dataframe.\n",
        "signal_df = pd.read_csv(\"/content/drive/MyDrive/train.csv\")\n",
        "print(signal_df)"
      ],
      "execution_count": 62,
      "outputs": [
        {
          "output_type": "stream",
          "name": "stdout",
          "text": [
            "         Unnamed: 0  lepton_1_pT  lepton_1_eta  ...  dPhi_r_b  cos(theta_r1)  class\n",
            "0                 0     0.841381      1.832647  ...  0.461542       0.005710    0.0\n",
            "1                 1     0.663798      2.058290  ...  1.455247       0.101246    0.0\n",
            "2                 2     1.792225     -1.099978  ...  0.721326       0.613326    1.0\n",
            "3                 3     0.893018      0.297782  ...  0.803802       0.038902    0.0\n",
            "4                 4     1.338997      0.350023  ...  0.717237       0.003147    1.0\n",
            "...             ...          ...           ...  ...       ...            ...    ...\n",
            "3499995     3499995     1.052621      0.602641  ...  1.203800       0.056984    1.0\n",
            "3499996     3499996     0.624401      0.361025  ...  1.075939       0.640265    0.0\n",
            "3499997     3499997     0.719730     -0.655623  ...  1.242062       0.262156    1.0\n",
            "3499998     3499998     0.670955     -0.450620  ...  0.502427       0.198597    0.0\n",
            "3499999     3499999     0.665091      1.751356  ...  1.238222       0.449188    0.0\n",
            "\n",
            "[3500000 rows x 20 columns]\n"
          ]
        }
      ]
    },
    {
      "cell_type": "code",
      "metadata": {
        "colab": {
          "base_uri": "https://localhost:8080/"
        },
        "id": "nlNIYT3AYYq9",
        "outputId": "858d7db7-ab66-493a-c26d-f2d415e13b87"
      },
      "source": [
        "from google.colab import drive\n",
        "drive.mount('/content/drive')"
      ],
      "execution_count": null,
      "outputs": [
        {
          "output_type": "stream",
          "name": "stdout",
          "text": [
            "Mounted at /content/drive\n"
          ]
        }
      ]
    },
    {
      "cell_type": "code",
      "metadata": {
        "execution": {
          "iopub.status.busy": "2021-11-29T05:20:49.983567Z",
          "iopub.execute_input": "2021-11-29T05:20:49.983885Z",
          "iopub.status.idle": "2021-11-29T05:20:50.239389Z",
          "shell.execute_reply.started": "2021-11-29T05:20:49.983853Z",
          "shell.execute_reply": "2021-11-29T05:20:50.238380Z"
        },
        "trusted": true,
        "id": "MOoZRVzaT8q_"
      },
      "source": [
        "signal_df = signal_df.sample(frac=0.55)"
      ],
      "execution_count": 63,
      "outputs": []
    },
    {
      "cell_type": "code",
      "metadata": {
        "execution": {
          "iopub.status.busy": "2021-11-29T05:20:57.896362Z",
          "iopub.execute_input": "2021-11-29T05:20:57.896668Z",
          "iopub.status.idle": "2021-11-29T05:20:57.902046Z",
          "shell.execute_reply.started": "2021-11-29T05:20:57.896637Z",
          "shell.execute_reply": "2021-11-29T05:20:57.901417Z"
        },
        "trusted": true,
        "colab": {
          "base_uri": "https://localhost:8080/"
        },
        "id": "oNr2DwryT8q_",
        "outputId": "4f7bc257-f98a-4322-a972-d171320bf4d5"
      },
      "source": [
        "#3 Understanding the dimensions of our dataset.\n",
        "print(signal_df.shape)\n",
        "print(signal_df.columns)\n"
      ],
      "execution_count": 42,
      "outputs": [
        {
          "output_type": "stream",
          "name": "stdout",
          "text": [
            "(2450000, 20)\n",
            "Index(['Unnamed: 0', 'lepton_1_pT', 'lepton_1_eta', 'lepton_1_phi',\n",
            "       'lepton_2_pT', 'lepton_2_eta', 'lepton_2_phi',\n",
            "       'missing_energy_magnitude', 'missing_energy_phi', 'MET_rel',\n",
            "       'axial_MET', 'M_R', 'M_TR_2', 'R', 'MT2', 'S_R', 'M_Delta_R',\n",
            "       'dPhi_r_b', 'cos(theta_r1)', 'class'],\n",
            "      dtype='object')\n"
          ]
        }
      ]
    },
    {
      "cell_type": "code",
      "metadata": {
        "execution": {
          "iopub.status.busy": "2021-11-29T05:21:04.286563Z",
          "iopub.execute_input": "2021-11-29T05:21:04.287082Z",
          "iopub.status.idle": "2021-11-29T05:21:04.319991Z",
          "shell.execute_reply.started": "2021-11-29T05:21:04.287040Z",
          "shell.execute_reply": "2021-11-29T05:21:04.319139Z"
        },
        "trusted": true,
        "colab": {
          "base_uri": "https://localhost:8080/"
        },
        "id": "_U2A2rDDT8q_",
        "outputId": "c7252445-7156-4aa1-c39d-a5064058e557"
      },
      "source": [
        "signal_df.info()"
      ],
      "execution_count": 43,
      "outputs": [
        {
          "output_type": "stream",
          "name": "stdout",
          "text": [
            "<class 'pandas.core.frame.DataFrame'>\n",
            "Int64Index: 2450000 entries, 2467439 to 654058\n",
            "Data columns (total 20 columns):\n",
            " #   Column                    Dtype  \n",
            "---  ------                    -----  \n",
            " 0   Unnamed: 0                int64  \n",
            " 1   lepton_1_pT               float64\n",
            " 2   lepton_1_eta              float64\n",
            " 3   lepton_1_phi              float64\n",
            " 4   lepton_2_pT               float64\n",
            " 5   lepton_2_eta              float64\n",
            " 6   lepton_2_phi              float64\n",
            " 7   missing_energy_magnitude  float64\n",
            " 8   missing_energy_phi        float64\n",
            " 9   MET_rel                   float64\n",
            " 10  axial_MET                 float64\n",
            " 11  M_R                       float64\n",
            " 12  M_TR_2                    float64\n",
            " 13  R                         float64\n",
            " 14  MT2                       float64\n",
            " 15  S_R                       float64\n",
            " 16  M_Delta_R                 float64\n",
            " 17  dPhi_r_b                  float64\n",
            " 18  cos(theta_r1)             float64\n",
            " 19  class                     float64\n",
            "dtypes: float64(19), int64(1)\n",
            "memory usage: 392.5 MB\n"
          ]
        }
      ]
    },
    {
      "cell_type": "code",
      "metadata": {
        "execution": {
          "iopub.status.busy": "2021-11-29T05:21:07.874511Z",
          "iopub.execute_input": "2021-11-29T05:21:07.875236Z",
          "iopub.status.idle": "2021-11-29T05:21:08.080446Z",
          "shell.execute_reply.started": "2021-11-29T05:21:07.875198Z",
          "shell.execute_reply": "2021-11-29T05:21:08.079448Z"
        },
        "trusted": true,
        "colab": {
          "base_uri": "https://localhost:8080/",
          "height": 320
        },
        "id": "z96MkzPWT8rA",
        "outputId": "b02a61e1-b623-491b-f7d8-38dcf30a54a2"
      },
      "source": [
        "signal_df.describe()"
      ],
      "execution_count": 44,
      "outputs": [
        {
          "output_type": "execute_result",
          "data": {
            "text/html": [
              "<div>\n",
              "<style scoped>\n",
              "    .dataframe tbody tr th:only-of-type {\n",
              "        vertical-align: middle;\n",
              "    }\n",
              "\n",
              "    .dataframe tbody tr th {\n",
              "        vertical-align: top;\n",
              "    }\n",
              "\n",
              "    .dataframe thead th {\n",
              "        text-align: right;\n",
              "    }\n",
              "</style>\n",
              "<table border=\"1\" class=\"dataframe\">\n",
              "  <thead>\n",
              "    <tr style=\"text-align: right;\">\n",
              "      <th></th>\n",
              "      <th>Unnamed: 0</th>\n",
              "      <th>lepton_1_pT</th>\n",
              "      <th>lepton_1_eta</th>\n",
              "      <th>lepton_1_phi</th>\n",
              "      <th>lepton_2_pT</th>\n",
              "      <th>lepton_2_eta</th>\n",
              "      <th>lepton_2_phi</th>\n",
              "      <th>missing_energy_magnitude</th>\n",
              "      <th>missing_energy_phi</th>\n",
              "      <th>MET_rel</th>\n",
              "      <th>axial_MET</th>\n",
              "      <th>M_R</th>\n",
              "      <th>M_TR_2</th>\n",
              "      <th>R</th>\n",
              "      <th>MT2</th>\n",
              "      <th>S_R</th>\n",
              "      <th>M_Delta_R</th>\n",
              "      <th>dPhi_r_b</th>\n",
              "      <th>cos(theta_r1)</th>\n",
              "      <th>class</th>\n",
              "    </tr>\n",
              "  </thead>\n",
              "  <tbody>\n",
              "    <tr>\n",
              "      <th>count</th>\n",
              "      <td>2.450000e+06</td>\n",
              "      <td>2.450000e+06</td>\n",
              "      <td>2.450000e+06</td>\n",
              "      <td>2.450000e+06</td>\n",
              "      <td>2.450000e+06</td>\n",
              "      <td>2.450000e+06</td>\n",
              "      <td>2.450000e+06</td>\n",
              "      <td>2.450000e+06</td>\n",
              "      <td>2.450000e+06</td>\n",
              "      <td>2.450000e+06</td>\n",
              "      <td>2.450000e+06</td>\n",
              "      <td>2.450000e+06</td>\n",
              "      <td>2.450000e+06</td>\n",
              "      <td>2.450000e+06</td>\n",
              "      <td>2.450000e+06</td>\n",
              "      <td>2.450000e+06</td>\n",
              "      <td>2.450000e+06</td>\n",
              "      <td>2.450000e+06</td>\n",
              "      <td>2.450000e+06</td>\n",
              "      <td>2.450000e+06</td>\n",
              "    </tr>\n",
              "    <tr>\n",
              "      <th>mean</th>\n",
              "      <td>1.749887e+06</td>\n",
              "      <td>1.000395e+00</td>\n",
              "      <td>7.922618e-04</td>\n",
              "      <td>9.092581e-04</td>\n",
              "      <td>9.994762e-01</td>\n",
              "      <td>6.799401e-04</td>\n",
              "      <td>-3.637827e-04</td>\n",
              "      <td>9.993327e-01</td>\n",
              "      <td>-3.600064e-04</td>\n",
              "      <td>1.000594e+00</td>\n",
              "      <td>6.701236e-05</td>\n",
              "      <td>1.000404e+00</td>\n",
              "      <td>9.995254e-01</td>\n",
              "      <td>9.996929e-01</td>\n",
              "      <td>1.000193e+00</td>\n",
              "      <td>1.000056e+00</td>\n",
              "      <td>9.997632e-01</td>\n",
              "      <td>9.995252e-01</td>\n",
              "      <td>2.247812e-01</td>\n",
              "      <td>4.573253e-01</td>\n",
              "    </tr>\n",
              "    <tr>\n",
              "      <th>std</th>\n",
              "      <td>1.010058e+06</td>\n",
              "      <td>6.871259e-01</td>\n",
              "      <td>1.002898e+00</td>\n",
              "      <td>1.002066e+00</td>\n",
              "      <td>6.544509e-01</td>\n",
              "      <td>1.002582e+00</td>\n",
              "      <td>1.001172e+00</td>\n",
              "      <td>8.715471e-01</td>\n",
              "      <td>1.001642e+00</td>\n",
              "      <td>8.888310e-01</td>\n",
              "      <td>1.000605e+00</td>\n",
              "      <td>6.287648e-01</td>\n",
              "      <td>5.831559e-01</td>\n",
              "      <td>4.710624e-01</td>\n",
              "      <td>8.590089e-01</td>\n",
              "      <td>6.205886e-01</td>\n",
              "      <td>6.232858e-01</td>\n",
              "      <td>4.360784e-01</td>\n",
              "      <td>1.969354e-01</td>\n",
              "      <td>4.981756e-01</td>\n",
              "    </tr>\n",
              "    <tr>\n",
              "      <th>min</th>\n",
              "      <td>0.000000e+00</td>\n",
              "      <td>2.548815e-01</td>\n",
              "      <td>-2.102919e+00</td>\n",
              "      <td>-1.734789e+00</td>\n",
              "      <td>4.285860e-01</td>\n",
              "      <td>-2.059306e+00</td>\n",
              "      <td>-1.734202e+00</td>\n",
              "      <td>7.199480e-04</td>\n",
              "      <td>-1.727112e+00</td>\n",
              "      <td>7.693475e-08</td>\n",
              "      <td>-1.470644e+01</td>\n",
              "      <td>2.680643e-01</td>\n",
              "      <td>2.427395e-03</td>\n",
              "      <td>4.528082e-03</td>\n",
              "      <td>0.000000e+00</td>\n",
              "      <td>2.734135e-02</td>\n",
              "      <td>4.452858e-03</td>\n",
              "      <td>4.329373e-07</td>\n",
              "      <td>2.113790e-07</td>\n",
              "      <td>0.000000e+00</td>\n",
              "    </tr>\n",
              "    <tr>\n",
              "      <th>25%</th>\n",
              "      <td>8.757928e+05</td>\n",
              "      <td>5.624875e-01</td>\n",
              "      <td>-7.559830e-01</td>\n",
              "      <td>-8.668997e-01</td>\n",
              "      <td>5.969710e-01</td>\n",
              "      <td>-7.684770e-01</td>\n",
              "      <td>-8.678068e-01</td>\n",
              "      <td>4.783166e-01</td>\n",
              "      <td>-8.665152e-01</td>\n",
              "      <td>3.687484e-01</td>\n",
              "      <td>-4.922235e-01</td>\n",
              "      <td>5.883682e-01</td>\n",
              "      <td>6.224536e-01</td>\n",
              "      <td>6.502945e-01</td>\n",
              "      <td>1.711036e-01</td>\n",
              "      <td>5.985243e-01</td>\n",
              "      <td>5.134083e-01</td>\n",
              "      <td>6.877557e-01</td>\n",
              "      <td>6.912067e-02</td>\n",
              "      <td>0.000000e+00</td>\n",
              "    </tr>\n",
              "    <tr>\n",
              "      <th>50%</th>\n",
              "      <td>1.749792e+06</td>\n",
              "      <td>7.916338e-01</td>\n",
              "      <td>9.023923e-04</td>\n",
              "      <td>2.125447e-04</td>\n",
              "      <td>7.998958e-01</td>\n",
              "      <td>5.491294e-04</td>\n",
              "      <td>-7.992858e-04</td>\n",
              "      <td>7.737322e-01</td>\n",
              "      <td>-9.890026e-03</td>\n",
              "      <td>8.016732e-01</td>\n",
              "      <td>-8.016474e-02</td>\n",
              "      <td>8.286080e-01</td>\n",
              "      <td>8.779684e-01</td>\n",
              "      <td>9.339889e-01</td>\n",
              "      <td>9.015112e-01</td>\n",
              "      <td>8.354233e-01</td>\n",
              "      <td>9.137152e-01</td>\n",
              "      <td>1.094500e+00</td>\n",
              "      <td>1.670360e-01</td>\n",
              "      <td>0.000000e+00</td>\n",
              "    </tr>\n",
              "    <tr>\n",
              "      <th>75%</th>\n",
              "      <td>2.623959e+06</td>\n",
              "      <td>1.204710e+00</td>\n",
              "      <td>7.582137e-01</td>\n",
              "      <td>8.688376e-01</td>\n",
              "      <td>1.162060e+00</td>\n",
              "      <td>7.700310e-01</td>\n",
              "      <td>8.665297e-01</td>\n",
              "      <td>1.206601e+00</td>\n",
              "      <td>8.680169e-01</td>\n",
              "      <td>1.374737e+00</td>\n",
              "      <td>3.490837e-01</td>\n",
              "      <td>1.211204e+00</td>\n",
              "      <td>1.220032e+00</td>\n",
              "      <td>1.283023e+00</td>\n",
              "      <td>1.612161e+00</td>\n",
              "      <td>1.207948e+00</td>\n",
              "      <td>1.383732e+00</td>\n",
              "      <td>1.369229e+00</td>\n",
              "      <td>3.300130e-01</td>\n",
              "      <td>1.000000e+00</td>\n",
              "    </tr>\n",
              "    <tr>\n",
              "      <th>max</th>\n",
              "      <td>3.499998e+06</td>\n",
              "      <td>2.055345e+01</td>\n",
              "      <td>2.101605e+00</td>\n",
              "      <td>1.734839e+00</td>\n",
              "      <td>3.303562e+01</td>\n",
              "      <td>2.059721e+00</td>\n",
              "      <td>1.734686e+00</td>\n",
              "      <td>2.106888e+01</td>\n",
              "      <td>1.740689e+00</td>\n",
              "      <td>2.256248e+01</td>\n",
              "      <td>1.959220e+01</td>\n",
              "      <td>2.107572e+01</td>\n",
              "      <td>1.499274e+01</td>\n",
              "      <td>6.731210e+00</td>\n",
              "      <td>1.698424e+01</td>\n",
              "      <td>2.115226e+01</td>\n",
              "      <td>1.344306e+01</td>\n",
              "      <td>1.591660e+00</td>\n",
              "      <td>1.000000e+00</td>\n",
              "      <td>1.000000e+00</td>\n",
              "    </tr>\n",
              "  </tbody>\n",
              "</table>\n",
              "</div>"
            ],
            "text/plain": [
              "         Unnamed: 0   lepton_1_pT  ...  cos(theta_r1)         class\n",
              "count  2.450000e+06  2.450000e+06  ...   2.450000e+06  2.450000e+06\n",
              "mean   1.749887e+06  1.000395e+00  ...   2.247812e-01  4.573253e-01\n",
              "std    1.010058e+06  6.871259e-01  ...   1.969354e-01  4.981756e-01\n",
              "min    0.000000e+00  2.548815e-01  ...   2.113790e-07  0.000000e+00\n",
              "25%    8.757928e+05  5.624875e-01  ...   6.912067e-02  0.000000e+00\n",
              "50%    1.749792e+06  7.916338e-01  ...   1.670360e-01  0.000000e+00\n",
              "75%    2.623959e+06  1.204710e+00  ...   3.300130e-01  1.000000e+00\n",
              "max    3.499998e+06  2.055345e+01  ...   1.000000e+00  1.000000e+00\n",
              "\n",
              "[8 rows x 20 columns]"
            ]
          },
          "metadata": {},
          "execution_count": 44
        }
      ]
    },
    {
      "cell_type": "code",
      "metadata": {
        "execution": {
          "iopub.status.busy": "2021-11-29T05:21:11.112934Z",
          "iopub.execute_input": "2021-11-29T05:21:11.113238Z",
          "iopub.status.idle": "2021-11-29T05:21:11.125779Z",
          "shell.execute_reply.started": "2021-11-29T05:21:11.113196Z",
          "shell.execute_reply": "2021-11-29T05:21:11.124733Z"
        },
        "trusted": true,
        "id": "MqKJfRc8T8rA"
      },
      "source": [
        "#3 We need to remove \"Unnamed: 0\" column. We will then have only 19 columns.\n",
        "signal_df = signal_df.drop('Unnamed: 0', 1)"
      ],
      "execution_count": 64,
      "outputs": []
    },
    {
      "cell_type": "code",
      "metadata": {
        "execution": {
          "iopub.status.busy": "2021-11-29T05:21:14.073077Z",
          "iopub.execute_input": "2021-11-29T05:21:14.073403Z",
          "iopub.status.idle": "2021-11-29T05:21:18.222254Z",
          "shell.execute_reply.started": "2021-11-29T05:21:14.073367Z",
          "shell.execute_reply": "2021-11-29T05:21:18.221108Z"
        },
        "trusted": true,
        "colab": {
          "base_uri": "https://localhost:8080/",
          "height": 411
        },
        "id": "GeV24A0LT8rB",
        "outputId": "2f8297b7-f0ac-4f22-afdc-5b699053f97c"
      },
      "source": [
        "#4 Checking for null values using seaborn.\n",
        "sns.heatmap(signal_df.isnull(),yticklabels= False, cbar = False, cmap = \"viridis\") "
      ],
      "execution_count": null,
      "outputs": [
        {
          "output_type": "execute_result",
          "data": {
            "text/plain": [
              "<matplotlib.axes._subplots.AxesSubplot at 0x7ff94200a0d0>"
            ]
          },
          "metadata": {},
          "execution_count": 17
        },
        {
          "output_type": "display_data",
          "data": {
            "image/png": "[encoded data removed]",
            "text/plain": [
              "<Figure size 432x288 with 1 Axes>"
            ]
          },
          "metadata": {
            "needs_background": "light"
          }
        }
      ]
    },
    {
      "cell_type": "markdown",
      "metadata": {
        "id": "0-lIQ1wMT8rB"
      },
      "source": [
        "We can understand that there is no column with null values. So for now we are not deleting any of the rows."
      ]
    },
    {
      "cell_type": "code",
      "metadata": {
        "execution": {
          "iopub.status.busy": "2021-11-29T05:21:23.479068Z",
          "iopub.execute_input": "2021-11-29T05:21:23.479362Z",
          "iopub.status.idle": "2021-11-29T05:21:23.499724Z",
          "shell.execute_reply.started": "2021-11-29T05:21:23.479333Z",
          "shell.execute_reply": "2021-11-29T05:21:23.498778Z"
        },
        "trusted": true,
        "id": "eciEYaTjT8rB"
      },
      "source": [
        "signal_df.all()"
      ],
      "execution_count": null,
      "outputs": []
    },
    {
      "cell_type": "code",
      "metadata": {
        "execution": {
          "iopub.status.busy": "2021-11-29T05:31:59.233693Z",
          "iopub.execute_input": "2021-11-29T05:31:59.234043Z",
          "iopub.status.idle": "2021-11-29T05:31:59.249633Z",
          "shell.execute_reply.started": "2021-11-29T05:31:59.234010Z",
          "shell.execute_reply": "2021-11-29T05:31:59.248878Z"
        },
        "trusted": true,
        "id": "XYnanZaDT8rC"
      },
      "source": [
        "#5 Removing rows with MT2 = 0  because it feels like a null value.\n",
        "##signal_df.reset_index(drop = True, inplace=True)"
      ],
      "execution_count": null,
      "outputs": []
    },
    {
      "cell_type": "code",
      "metadata": {
        "execution": {
          "iopub.status.busy": "2021-11-29T05:32:11.743525Z",
          "iopub.execute_input": "2021-11-29T05:32:11.743866Z",
          "iopub.status.idle": "2021-11-29T05:32:12.632626Z",
          "shell.execute_reply.started": "2021-11-29T05:32:11.743823Z",
          "shell.execute_reply": "2021-11-29T05:32:12.630208Z"
        },
        "trusted": true,
        "colab": {
          "base_uri": "https://localhost:8080/",
          "height": 796
        },
        "id": "XbYcguXsT8rC",
        "outputId": "35180442-2305-463f-d4f0-845cf1514d3a"
      },
      "source": [
        "#6 Finding if any columns are correlated.\n",
        "print(signal_df.corr())\n",
        "sns.heatmap(signal_df.corr())"
      ],
      "execution_count": 46,
      "outputs": [
        {
          "output_type": "stream",
          "name": "stdout",
          "text": [
            "                          lepton_1_pT  lepton_1_eta  ...  cos(theta_r1)     class\n",
            "lepton_1_pT                  1.000000     -0.000250  ...       0.165773  0.387487\n",
            "lepton_1_eta                -0.000250      1.000000  ...       0.000167 -0.000547\n",
            "lepton_1_phi                -0.000300      0.000609  ...       0.000176 -0.001919\n",
            "lepton_2_pT                  0.685146      0.000108  ...      -0.215938  0.194759\n",
            "lepton_2_eta                 0.000034      0.403366  ...       0.000604  0.000403\n",
            "lepton_2_phi                -0.000393      0.000077  ...      -0.001128 -0.000734\n",
            "missing_energy_magnitude     0.383797     -0.000981  ...       0.426677  0.439027\n",
            "missing_energy_phi          -0.000945      0.000171  ...       0.000713  0.001499\n",
            "MET_rel                      0.160130     -0.000939  ...       0.317531  0.282488\n",
            "axial_MET                   -0.016981     -0.000167  ...      -0.273787  0.077327\n",
            "M_R                          0.851765     -0.000323  ...      -0.114898  0.267009\n",
            "M_TR_2                       0.723445     -0.000874  ...       0.451311  0.423082\n",
            "R                           -0.184142     -0.000901  ...       0.626860  0.111354\n",
            "MT2                         -0.021878     -0.000495  ...       0.262935  0.079087\n",
            "S_R                          0.811546     -0.000389  ...      -0.084002  0.258602\n",
            "M_Delta_R                    0.227369     -0.001047  ...       0.318416  0.272384\n",
            "dPhi_r_b                    -0.158068     -0.000017  ...       0.106128  0.032736\n",
            "cos(theta_r1)                0.165773      0.000167  ...       1.000000  0.268871\n",
            "class                        0.387487     -0.000547  ...       0.268871  1.000000\n",
            "\n",
            "[19 rows x 19 columns]\n"
          ]
        },
        {
          "output_type": "execute_result",
          "data": {
            "text/plain": [
              "<matplotlib.axes._subplots.AxesSubplot at 0x7fb5b69c1250>"
            ]
          },
          "metadata": {},
          "execution_count": 46
        },
        {
          "output_type": "display_data",
          "data": {
            "image/png": "[encoded data removed]",
            "text/plain": [
              "<Figure size 432x288 with 2 Axes>"
            ]
          },
          "metadata": {
            "needs_background": "light"
          }
        }
      ]
    },
    {
      "cell_type": "markdown",
      "metadata": {
        "id": "TA-z00_ET8rD"
      },
      "source": [
        "M_R and S_R seems highly correlated. So we need to include only one of them in training."
      ]
    },
    {
      "cell_type": "code",
      "metadata": {
        "execution": {
          "iopub.status.busy": "2021-11-29T05:32:28.909863Z",
          "iopub.execute_input": "2021-11-29T05:32:28.910493Z",
          "iopub.status.idle": "2021-11-29T05:32:28.916794Z",
          "shell.execute_reply.started": "2021-11-29T05:32:28.910448Z",
          "shell.execute_reply": "2021-11-29T05:32:28.915972Z"
        },
        "trusted": true,
        "id": "KlIHPNfST8rD",
        "colab": {
          "base_uri": "https://localhost:8080/"
        },
        "outputId": "ee25e92a-a82b-49a7-d9ea-eecb141c3399"
      },
      "source": [
        "signal_df.columns\n"
      ],
      "execution_count": 47,
      "outputs": [
        {
          "output_type": "execute_result",
          "data": {
            "text/plain": [
              "Index(['lepton_1_pT', 'lepton_1_eta', 'lepton_1_phi', 'lepton_2_pT',\n",
              "       'lepton_2_eta', 'lepton_2_phi', 'missing_energy_magnitude',\n",
              "       'missing_energy_phi', 'MET_rel', 'axial_MET', 'M_R', 'M_TR_2', 'R',\n",
              "       'MT2', 'S_R', 'M_Delta_R', 'dPhi_r_b', 'cos(theta_r1)', 'class'],\n",
              "      dtype='object')"
            ]
          },
          "metadata": {},
          "execution_count": 47
        }
      ]
    },
    {
      "cell_type": "markdown",
      "metadata": {
        "id": "fbcmu5ZqFygx"
      },
      "source": [
        "I am using a bagging MLP for my classification. Arrvied at the hyper paramters on my own intuition.Tried everything including random forest trees woth Grid Search CV and finding the hyper parameters. Unable to cross the required Kaggle benchmark."
      ]
    },
    {
      "cell_type": "code",
      "metadata": {
        "execution": {
          "iopub.status.busy": "2021-11-29T05:32:32.867440Z",
          "iopub.execute_input": "2021-11-29T05:32:32.868427Z",
          "iopub.status.idle": "2021-11-29T05:32:32.878148Z",
          "shell.execute_reply.started": "2021-11-29T05:32:32.868384Z",
          "shell.execute_reply": "2021-11-29T05:32:32.877295Z"
        },
        "trusted": true,
        "id": "P_fJulmrT8rE"
      },
      "source": [
        "#6 Input and Output labels\n",
        "X_train = signal_df[['lepton_1_pT', 'lepton_1_eta', 'lepton_1_phi', 'lepton_2_pT',\n",
        "       'lepton_2_eta', 'lepton_2_phi', 'missing_energy_magnitude',\n",
        "       'missing_energy_phi', 'MET_rel', 'axial_MET', 'M_R', 'M_TR_2', 'R',\n",
        "       'MT2', 'M_Delta_R', 'dPhi_r_b', 'cos(theta_r1)']]\n",
        "y_train = signal_df['class']"
      ],
      "execution_count": 66,
      "outputs": []
    },
    {
      "cell_type": "code",
      "metadata": {
        "id": "dUBAnO9fZh3z"
      },
      "source": [
        "cv = StratifiedKFold(n_splits=5, shuffle=True, random_state=1)"
      ],
      "execution_count": 49,
      "outputs": []
    },
    {
      "cell_type": "code",
      "metadata": {
        "colab": {
          "base_uri": "https://localhost:8080/"
        },
        "id": "QkI4Z9l984cL",
        "outputId": "d8b8a69b-2b6c-4c36-bff3-82bf19e16165"
      },
      "source": [
        "bag = BaggingClassifier(MLPClassifier(solver = \"sgd\", alpha = 1e-5, random_state=1, max_iter=200,\n",
        "                          hidden_layer_sizes = 10), n_estimators = 8, \n",
        "                        bootstrap=True, n_jobs=-1, random_state=1, verbose = 1)\n",
        "for (train,test), i in zip(cv.split(X_train, y_train), range(5)):\n",
        "     bag.fit(X_train.iloc[train], y_train.iloc[train])"
      ],
      "execution_count": 73,
      "outputs": [
        {
          "output_type": "stream",
          "name": "stderr",
          "text": [
            "[Parallel(n_jobs=2)]: Using backend LokyBackend with 2 concurrent workers.\n",
            "[Parallel(n_jobs=2)]: Done   2 out of   2 | elapsed: 14.0min remaining:    0.0s\n",
            "[Parallel(n_jobs=2)]: Done   2 out of   2 | elapsed: 14.0min finished\n",
            "[Parallel(n_jobs=2)]: Using backend LokyBackend with 2 concurrent workers.\n",
            "[Parallel(n_jobs=2)]: Done   2 out of   2 | elapsed: 13.6min remaining:    0.0s\n",
            "[Parallel(n_jobs=2)]: Done   2 out of   2 | elapsed: 13.6min finished\n",
            "[Parallel(n_jobs=2)]: Using backend LokyBackend with 2 concurrent workers.\n",
            "[Parallel(n_jobs=2)]: Done   2 out of   2 | elapsed: 14.2min remaining:    0.0s\n",
            "[Parallel(n_jobs=2)]: Done   2 out of   2 | elapsed: 14.2min finished\n",
            "[Parallel(n_jobs=2)]: Using backend LokyBackend with 2 concurrent workers.\n",
            "[Parallel(n_jobs=2)]: Done   2 out of   2 | elapsed: 13.9min remaining:    0.0s\n",
            "[Parallel(n_jobs=2)]: Done   2 out of   2 | elapsed: 13.9min finished\n",
            "[Parallel(n_jobs=2)]: Using backend LokyBackend with 2 concurrent workers.\n",
            "[Parallel(n_jobs=2)]: Done   2 out of   2 | elapsed: 15.6min remaining:    0.0s\n",
            "[Parallel(n_jobs=2)]: Done   2 out of   2 | elapsed: 15.6min finished\n"
          ]
        }
      ]
    },
    {
      "cell_type": "code",
      "metadata": {
        "id": "sPwmy_HgtlzD"
      },
      "source": [
        "test_signal_df = pd.read_csv(\"/content/drive/MyDrive/test.csv\")\n"
      ],
      "execution_count": 75,
      "outputs": []
    },
    {
      "cell_type": "code",
      "metadata": {
        "colab": {
          "base_uri": "https://localhost:8080/",
          "height": 443
        },
        "id": "Jch5kjvdXi-l",
        "outputId": "f67815bd-e988-4ab7-8431-2d9d8a3d13ad"
      },
      "source": [
        "test_signal_df = test_signal_df.drop('Unnamed: 0', 1)\n",
        "test_signal_df"
      ],
      "execution_count": 76,
      "outputs": [
        {
          "output_type": "execute_result",
          "data": {
            "text/html": [
              "<div>\n",
              "<style scoped>\n",
              "    .dataframe tbody tr th:only-of-type {\n",
              "        vertical-align: middle;\n",
              "    }\n",
              "\n",
              "    .dataframe tbody tr th {\n",
              "        vertical-align: top;\n",
              "    }\n",
              "\n",
              "    .dataframe thead th {\n",
              "        text-align: right;\n",
              "    }\n",
              "</style>\n",
              "<table border=\"1\" class=\"dataframe\">\n",
              "  <thead>\n",
              "    <tr style=\"text-align: right;\">\n",
              "      <th></th>\n",
              "      <th>lepton_1_pT</th>\n",
              "      <th>lepton_1_eta</th>\n",
              "      <th>lepton_1_phi</th>\n",
              "      <th>lepton_2_pT</th>\n",
              "      <th>lepton_2_eta</th>\n",
              "      <th>lepton_2_phi</th>\n",
              "      <th>missing_energy_magnitude</th>\n",
              "      <th>missing_energy_phi</th>\n",
              "      <th>MET_rel</th>\n",
              "      <th>axial_MET</th>\n",
              "      <th>M_R</th>\n",
              "      <th>M_TR_2</th>\n",
              "      <th>R</th>\n",
              "      <th>MT2</th>\n",
              "      <th>S_R</th>\n",
              "      <th>M_Delta_R</th>\n",
              "      <th>dPhi_r_b</th>\n",
              "      <th>cos(theta_r1)</th>\n",
              "    </tr>\n",
              "  </thead>\n",
              "  <tbody>\n",
              "    <tr>\n",
              "      <th>0</th>\n",
              "      <td>1.667973</td>\n",
              "      <td>0.064191</td>\n",
              "      <td>-1.225171</td>\n",
              "      <td>0.506102</td>\n",
              "      <td>-0.338939</td>\n",
              "      <td>1.672543</td>\n",
              "      <td>3.475464</td>\n",
              "      <td>-1.219136</td>\n",
              "      <td>0.012955</td>\n",
              "      <td>3.775174</td>\n",
              "      <td>1.045977</td>\n",
              "      <td>0.568051</td>\n",
              "      <td>0.481928</td>\n",
              "      <td>0.000000</td>\n",
              "      <td>0.448410</td>\n",
              "      <td>0.205356</td>\n",
              "      <td>1.321893</td>\n",
              "      <td>0.377584</td>\n",
              "    </tr>\n",
              "    <tr>\n",
              "      <th>1</th>\n",
              "      <td>0.698336</td>\n",
              "      <td>1.689431</td>\n",
              "      <td>-1.134670</td>\n",
              "      <td>0.966594</td>\n",
              "      <td>1.503367</td>\n",
              "      <td>0.880949</td>\n",
              "      <td>0.242573</td>\n",
              "      <td>-0.228654</td>\n",
              "      <td>0.364132</td>\n",
              "      <td>0.109350</td>\n",
              "      <td>0.668554</td>\n",
              "      <td>0.489941</td>\n",
              "      <td>0.650313</td>\n",
              "      <td>0.683634</td>\n",
              "      <td>0.664825</td>\n",
              "      <td>0.510385</td>\n",
              "      <td>0.584092</td>\n",
              "      <td>0.031694</td>\n",
              "    </tr>\n",
              "    <tr>\n",
              "      <th>2</th>\n",
              "      <td>0.578286</td>\n",
              "      <td>-0.689652</td>\n",
              "      <td>-0.390094</td>\n",
              "      <td>0.480061</td>\n",
              "      <td>-0.632219</td>\n",
              "      <td>1.212005</td>\n",
              "      <td>0.640473</td>\n",
              "      <td>-1.622401</td>\n",
              "      <td>0.872160</td>\n",
              "      <td>-0.186169</td>\n",
              "      <td>0.451853</td>\n",
              "      <td>0.669288</td>\n",
              "      <td>1.314412</td>\n",
              "      <td>0.559444</td>\n",
              "      <td>0.491753</td>\n",
              "      <td>0.559017</td>\n",
              "      <td>1.286520</td>\n",
              "      <td>0.400292</td>\n",
              "    </tr>\n",
              "    <tr>\n",
              "      <th>3</th>\n",
              "      <td>0.798202</td>\n",
              "      <td>0.099358</td>\n",
              "      <td>-1.095839</td>\n",
              "      <td>0.531147</td>\n",
              "      <td>-0.962327</td>\n",
              "      <td>1.500362</td>\n",
              "      <td>1.273941</td>\n",
              "      <td>0.675408</td>\n",
              "      <td>1.803743</td>\n",
              "      <td>-0.845941</td>\n",
              "      <td>0.685836</td>\n",
              "      <td>1.234757</td>\n",
              "      <td>1.597630</td>\n",
              "      <td>1.864630</td>\n",
              "      <td>0.775854</td>\n",
              "      <td>1.556949</td>\n",
              "      <td>1.245781</td>\n",
              "      <td>0.538010</td>\n",
              "    </tr>\n",
              "    <tr>\n",
              "      <th>4</th>\n",
              "      <td>1.466649</td>\n",
              "      <td>0.115517</td>\n",
              "      <td>-1.036161</td>\n",
              "      <td>0.877247</td>\n",
              "      <td>0.690861</td>\n",
              "      <td>1.130069</td>\n",
              "      <td>0.890722</td>\n",
              "      <td>0.426515</td>\n",
              "      <td>1.283212</td>\n",
              "      <td>-0.563880</td>\n",
              "      <td>1.090046</td>\n",
              "      <td>1.327570</td>\n",
              "      <td>1.080762</td>\n",
              "      <td>1.588076</td>\n",
              "      <td>1.069615</td>\n",
              "      <td>1.258800</td>\n",
              "      <td>0.443045</td>\n",
              "      <td>0.415406</td>\n",
              "    </tr>\n",
              "    <tr>\n",
              "      <th>...</th>\n",
              "      <td>...</td>\n",
              "      <td>...</td>\n",
              "      <td>...</td>\n",
              "      <td>...</td>\n",
              "      <td>...</td>\n",
              "      <td>...</td>\n",
              "      <td>...</td>\n",
              "      <td>...</td>\n",
              "      <td>...</td>\n",
              "      <td>...</td>\n",
              "      <td>...</td>\n",
              "      <td>...</td>\n",
              "      <td>...</td>\n",
              "      <td>...</td>\n",
              "      <td>...</td>\n",
              "      <td>...</td>\n",
              "      <td>...</td>\n",
              "      <td>...</td>\n",
              "    </tr>\n",
              "    <tr>\n",
              "      <th>1499995</th>\n",
              "      <td>0.482755</td>\n",
              "      <td>1.204410</td>\n",
              "      <td>0.299445</td>\n",
              "      <td>0.780271</td>\n",
              "      <td>1.958697</td>\n",
              "      <td>0.938929</td>\n",
              "      <td>0.887801</td>\n",
              "      <td>-1.404129</td>\n",
              "      <td>1.332697</td>\n",
              "      <td>-0.456543</td>\n",
              "      <td>0.551233</td>\n",
              "      <td>0.957969</td>\n",
              "      <td>1.542171</td>\n",
              "      <td>1.982478</td>\n",
              "      <td>0.579808</td>\n",
              "      <td>1.481396</td>\n",
              "      <td>1.006600</td>\n",
              "      <td>0.189843</td>\n",
              "    </tr>\n",
              "    <tr>\n",
              "      <th>1499996</th>\n",
              "      <td>1.085361</td>\n",
              "      <td>0.861342</td>\n",
              "      <td>-1.356951</td>\n",
              "      <td>0.483685</td>\n",
              "      <td>0.059381</td>\n",
              "      <td>0.292341</td>\n",
              "      <td>0.340940</td>\n",
              "      <td>0.761038</td>\n",
              "      <td>0.380255</td>\n",
              "      <td>0.038984</td>\n",
              "      <td>0.774140</td>\n",
              "      <td>0.660777</td>\n",
              "      <td>0.757443</td>\n",
              "      <td>0.331105</td>\n",
              "      <td>0.715807</td>\n",
              "      <td>0.447304</td>\n",
              "      <td>0.320159</td>\n",
              "      <td>0.371521</td>\n",
              "    </tr>\n",
              "    <tr>\n",
              "      <th>1499997</th>\n",
              "      <td>1.339252</td>\n",
              "      <td>-1.753881</td>\n",
              "      <td>0.667430</td>\n",
              "      <td>1.279321</td>\n",
              "      <td>-0.125801</td>\n",
              "      <td>-1.025262</td>\n",
              "      <td>0.996305</td>\n",
              "      <td>-1.425422</td>\n",
              "      <td>1.005658</td>\n",
              "      <td>-0.529824</td>\n",
              "      <td>1.616218</td>\n",
              "      <td>1.278956</td>\n",
              "      <td>0.702218</td>\n",
              "      <td>0.541788</td>\n",
              "      <td>1.649413</td>\n",
              "      <td>1.139551</td>\n",
              "      <td>1.256152</td>\n",
              "      <td>0.159157</td>\n",
              "    </tr>\n",
              "    <tr>\n",
              "      <th>1499998</th>\n",
              "      <td>0.853325</td>\n",
              "      <td>-0.961783</td>\n",
              "      <td>-1.487277</td>\n",
              "      <td>0.678190</td>\n",
              "      <td>0.493580</td>\n",
              "      <td>1.647969</td>\n",
              "      <td>1.843867</td>\n",
              "      <td>0.276954</td>\n",
              "      <td>1.025105</td>\n",
              "      <td>-1.486535</td>\n",
              "      <td>0.892879</td>\n",
              "      <td>1.684429</td>\n",
              "      <td>1.674084</td>\n",
              "      <td>3.366298</td>\n",
              "      <td>1.046707</td>\n",
              "      <td>2.646649</td>\n",
              "      <td>1.389226</td>\n",
              "      <td>0.364599</td>\n",
              "    </tr>\n",
              "    <tr>\n",
              "      <th>1499999</th>\n",
              "      <td>0.840389</td>\n",
              "      <td>1.419162</td>\n",
              "      <td>-1.218766</td>\n",
              "      <td>1.195631</td>\n",
              "      <td>1.695645</td>\n",
              "      <td>0.663756</td>\n",
              "      <td>0.490888</td>\n",
              "      <td>-0.509186</td>\n",
              "      <td>0.704289</td>\n",
              "      <td>0.045744</td>\n",
              "      <td>0.825015</td>\n",
              "      <td>0.723530</td>\n",
              "      <td>0.778236</td>\n",
              "      <td>0.752942</td>\n",
              "      <td>0.838953</td>\n",
              "      <td>0.614048</td>\n",
              "      <td>1.210595</td>\n",
              "      <td>0.026692</td>\n",
              "    </tr>\n",
              "  </tbody>\n",
              "</table>\n",
              "<p>1500000 rows × 18 columns</p>\n",
              "</div>"
            ],
            "text/plain": [
              "         lepton_1_pT  lepton_1_eta  ...  dPhi_r_b  cos(theta_r1)\n",
              "0           1.667973      0.064191  ...  1.321893       0.377584\n",
              "1           0.698336      1.689431  ...  0.584092       0.031694\n",
              "2           0.578286     -0.689652  ...  1.286520       0.400292\n",
              "3           0.798202      0.099358  ...  1.245781       0.538010\n",
              "4           1.466649      0.115517  ...  0.443045       0.415406\n",
              "...              ...           ...  ...       ...            ...\n",
              "1499995     0.482755      1.204410  ...  1.006600       0.189843\n",
              "1499996     1.085361      0.861342  ...  0.320159       0.371521\n",
              "1499997     1.339252     -1.753881  ...  1.256152       0.159157\n",
              "1499998     0.853325     -0.961783  ...  1.389226       0.364599\n",
              "1499999     0.840389      1.419162  ...  1.210595       0.026692\n",
              "\n",
              "[1500000 rows x 18 columns]"
            ]
          },
          "metadata": {},
          "execution_count": 76
        }
      ]
    },
    {
      "cell_type": "code",
      "metadata": {
        "id": "cKq0KljLOhuG"
      },
      "source": [
        "\n",
        "X_test = test_signal_df[['lepton_1_pT', 'lepton_1_eta', 'lepton_1_phi', 'lepton_2_pT',\n",
        "       'lepton_2_eta', 'lepton_2_phi', 'missing_energy_magnitude',\n",
        "       'missing_energy_phi', 'MET_rel', 'axial_MET', 'M_R', 'M_TR_2', 'R',\n",
        "       'MT2', 'M_Delta_R', 'dPhi_r_b', 'cos(theta_r1)']]\n",
        "yhat = bag.predict(X_test)"
      ],
      "execution_count": null,
      "outputs": []
    },
    {
      "cell_type": "code",
      "metadata": {
        "id": "n7jvtIVaOwtp"
      },
      "source": [
        "my_submission = pd.DataFrame({'Id': test_signal_df.index, 'class': yhat})\n",
        "my_submission.to_csv('submissionA3.csv', index = False)"
      ],
      "execution_count": 78,
      "outputs": []
    }
  ]
}